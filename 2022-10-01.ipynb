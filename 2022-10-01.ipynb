{
  "nbformat": 4,
  "nbformat_minor": 0,
  "metadata": {
    "colab": {
      "provenance": [],
      "collapsed_sections": [],
      "authorship_tag": "ABX9TyM7fS+aps/T5FALsB3BAI8Y",
      "include_colab_link": true
    },
    "kernelspec": {
      "name": "python3",
      "display_name": "Python 3"
    },
    "language_info": {
      "name": "python"
    }
  },
  "cells": [
    {
      "cell_type": "markdown",
      "metadata": {
        "id": "view-in-github",
        "colab_type": "text"
      },
      "source": [
        "<a href=\"https://colab.research.google.com/github/kig2929kig/kig2929kig.github.io/blob/master/2022-10-01.ipynb\" target=\"_parent\"><img src=\"https://colab.research.google.com/assets/colab-badge.svg\" alt=\"Open In Colab\"/></a>"
      ]
    },
    {
      "cell_type": "markdown",
      "source": [
        "##꿈꾸는 돈키호테\n",
        "***\n",
        "### The Impossible Dream (뮤지컬 맨 오브 라만차 중)\n",
        "\n",
        "    그 꿈, 이룰 수 없어도\n",
        "    싸움, 이길 수 없어도\n",
        "    슬픔, 견딜 수 없다 해도\n",
        "    길은 험하고 험해도\n",
        "\n",
        "    정의를 위해 싸우리라\n",
        "    사랑을 믿고 따르리라\n",
        "    잡을 수 없는 별일지라도\n",
        "    힘껏 팔을 뻗으리라\n",
        "\n",
        "    이거 나의 가는 길이요\n",
        "    희망조차 없고 또 멀지라도\n",
        "    멈추지 않고, 돌아보지 않고\n",
        "    오직 나에게 주어진 이길을 따르리라\n",
        "\n",
        "    내가 영광의 이 길을 진실로 따라가면\n",
        "    죽음이 나를 덮쳐와도 평화롭게 되리\n",
        "\n",
        "    세상은 밝게 빛나리라 이 한 몸 찢기고 상해도\n",
        "    마지막 힘이 다할 때까지\n",
        "    가네 저 별을 향하여\n",
        "\n",
        "[YouTube - 이룰 수 없는 꿈](https://www.youtube.com/watch?v=k0CIoqRq0OI, \"YouTube link\")\n",
        "\n",
        "***\n",
        "\n",
        "### 이룰 수 없는 꿈을 꾸고, 잡을 수 없는 저 하늘의 별을 잡자\n",
        "\n",
        "    이룩할 수 없는 꿈을 꾸고\n",
        "    이루어질 수 없는 사랑을 하고\n",
        "    이길 수 없는 적과 싸움을 하고\n",
        "    견딜 수 없는 고통을 견디며\n",
        "\n",
        "    잡을 수 없는 저 하늘의 별을 잡자.\n",
        "\n",
        "    세르반테스, <돈키호테>\n",
        "\n",
        "```text\n",
        " 블로그를 만들고 첫 포스팅을 어떻게 만들지, 짧은 고민 끝에 좋아하는 글을 소개하고 블로그의 방향성을 대신하고자 합니다. 이룰 수 없는 꿈을 꾸고, 잡을 수 없는 저 하늘의 별들을 잡는 그 날까지 포기하지 않고 그 길을 진실로 따라가면 평화롭게 되길 바라봅니다.\n",
        "```"
      ],
      "metadata": {
        "id": "I89UAdWHj1Wz"
      }
    }
  ]
}